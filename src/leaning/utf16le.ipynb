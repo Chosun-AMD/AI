{
 "cells": [
  {
   "cell_type": "code",
   "execution_count": null,
   "id": "b0672b79",
   "metadata": {},
   "outputs": [],
   "source": [
    "import glob\n",
    "import os\n",
    "import msgpack\n",
    "from tqdm.auto import tqdm\n",
    "\n",
    "from silence_tensorflow import silence_tensorflow\n",
    "silence_tensorflow()\n",
    "import tensorflow as tf\n",
    "import tensorflow.keras as keras\n",
    "import keras.models as models\n",
    "import keras.layers as layers\n",
    "from keras.preprocessing.text import Tokenizer\n",
    "import numpy as np\n",
    "import pandas as pd"
   ]
  },
  {
   "cell_type": "code",
   "execution_count": null,
   "id": "e761555b",
   "metadata": {},
   "outputs": [],
   "source": [
    "train_dataset_path = input(\"Enter the path of the train dataset: \")\n",
    "files = glob.glob(os.path.join(train_dataset_path, '*.utf16le.msgpack'))\n",
    "\n",
    "print(f'Dataset Lenght: {len(files)}')"
   ]
  },
  {
   "cell_type": "code",
   "execution_count": null,
   "id": "ddc08ca0",
   "metadata": {},
   "outputs": [],
   "source": [
    "truncate_len = 128\n",
    "truncate = lambda x: x[:truncate_len]"
   ]
  },
  {
   "cell_type": "code",
   "execution_count": null,
   "id": "5a4c9686",
   "metadata": {},
   "outputs": [],
   "source": [
    "dataset = []\n",
    "for f in tqdm(files):\n",
    "    dataset.append(msgpack.load(open(f, 'rb')))"
   ]
  },
  {
   "cell_type": "code",
   "execution_count": null,
   "id": "9db9d382",
   "metadata": {},
   "outputs": [],
   "source": [
    "features = []\n",
    "labels = []\n",
    "\n",
    "for data in tqdm(dataset):\n",
    "    features.append(' '.join([truncate(s) for s in data[0]]))\n",
    "    labels.append(data[1])\n",
    "    \n",
    "del dataset # 메모리 절약을 위한 사용하지 않는 메모리 해제\n",
    "\n",
    "# Print some sample\n",
    "print(f'Features: {features[0]}')\n",
    "print(f'Labels: {labels[0]}')"
   ]
  },
  {
   "cell_type": "code",
   "execution_count": null,
   "id": "0f67d8b9",
   "metadata": {},
   "outputs": [],
   "source": [
    "tokenizer = Tokenizer()\n",
    "\n",
    "flag_load = False\n",
    "# if word_index.ascii.msgpack is exists then load word_index from file\n",
    "# else use tokenizer.fit_on_texts\n",
    "if os.path.isfile('word_index.utf16le.msgpack'):\n",
    "    with open('word_index.utf16le.msgpack', 'rb') as f:\n",
    "        tokenizer.word_index = msgpack.load(f)\n",
    "        flag_load = True\n",
    "else:\n",
    "    tokenizer.fit_on_texts(tqdm(features))"
   ]
  },
  {
   "cell_type": "code",
   "execution_count": null,
   "id": "b5780505",
   "metadata": {},
   "outputs": [],
   "source": [
    "# Save word index to msgpack files\n",
    "if flag_load == False:\n",
    "    with open('word_index.utf161e.msgpack', 'wb') as f:\n",
    "        msgpack.dump(tokenizer.word_index, f)"
   ]
  },
  {
   "cell_type": "code",
   "execution_count": null,
   "id": "5ed0f4b7",
   "metadata": {},
   "outputs": [],
   "source": [
    "seq = tokenizer.texts_to_sequences(tqdm(features))\n",
    "pad_seq = keras.preprocessing.sequence.pad_sequences(tqdm(seq), padding='post', maxlen=100)"
   ]
  },
  {
   "cell_type": "code",
   "execution_count": null,
   "id": "f08b8e25",
   "metadata": {},
   "outputs": [],
   "source": [
    "model = models.Sequential()\n",
    "model.add(layers.Embedding(100000, output_dim=100, input_length=100))\n",
    "model.add(layers.Conv1D(filters=64, kernel_size=3, activation='relu'))\n",
    "model.add(layers.MaxPooling1D(pool_size=2))\n",
    "model.add(layers.LSTM(128))\n",
    "model.add(layers.Dense(1, activation='sigmoid'))"
   ]
  },
  {
   "cell_type": "code",
   "execution_count": null,
   "id": "954ce9e0",
   "metadata": {},
   "outputs": [],
   "source": [
    "# 모델 정보 및 Shape 출력\n",
    "model.summary()\n",
    "print(pad_seq.shape)\n",
    "print(np.array(labels).shape)"
   ]
  },
  {
   "cell_type": "code",
   "execution_count": null,
   "id": "73a56a51",
   "metadata": {},
   "outputs": [],
   "source": [
    "# 모델 학습시키기\n",
    "model.compile(optimizer='adam', loss='binary_crossentropy', metrics=['accuracy'])\n",
    "model.fit(pad_seq, np.array(labels), epochs=20)"
   ]
  },
  {
   "cell_type": "code",
   "execution_count": null,
   "id": "ab16179e",
   "metadata": {},
   "outputs": [],
   "source": [
    "# 모델 평가하기\n",
    "test_dataset_path = input(\"Enter the path of the test dataset: \")\n",
    "test_files = glob.glob('test_set/strings/*.utf16le.msgpack')\n",
    "\n",
    "test_dataset = []\n",
    "for f in tqdm(test_files):\n",
    "    test_dataset.append(msgpack.load(open(f, 'rb')))\n",
    "\n",
    "test_features = []\n",
    "test_labels = []\n",
    "\n",
    "for data in tqdm(test_dataset):\n",
    "    test_features.append(' '.join([truncate(s) for s in data[0]]))\n",
    "    test_labels.append(int(data[1]))\n",
    "\n",
    "del test_dataset # 메모리 절약을 위한 사용하지 않는 메모리 해제"
   ]
  },
  {
   "cell_type": "code",
   "execution_count": null,
   "id": "8959d336",
   "metadata": {},
   "outputs": [],
   "source": [
    "test_seq = tokenizer.texts_to_sequences(tqdm(test_features))\n",
    "test_pad_seq = keras.preprocessing.sequence.pad_sequences(tqdm(test_seq), padding='post', maxlen=100)"
   ]
  },
  {
   "cell_type": "code",
   "execution_count": null,
   "id": "7f4965b7",
   "metadata": {},
   "outputs": [],
   "source": [
    "loss, accuracy = model.evaluate(x=test_pad_seq, y=np.array(test_labels))\n",
    "\n",
    "print(f'Loss: {loss}')\n",
    "print(f'Accuracy: {accuracy}%')"
   ]
  },
  {
   "cell_type": "code",
   "execution_count": null,
   "id": "90b0544e",
   "metadata": {},
   "outputs": [],
   "source": [
    "# Save Model and Load Model for Test\n",
    "model.save('models/utf16le.h5')"
   ]
  }
 ],
 "metadata": {
  "kernelspec": {
   "display_name": "Python 3 (ipykernel)",
   "language": "python",
   "name": "python3"
  },
  "language_info": {
   "codemirror_mode": {
    "name": "ipython",
    "version": 3
   },
   "file_extension": ".py",
   "mimetype": "text/x-python",
   "name": "python",
   "nbconvert_exporter": "python",
   "pygments_lexer": "ipython3",
   "version": "3.8.10"
  }
 },
 "nbformat": 4,
 "nbformat_minor": 5
}
