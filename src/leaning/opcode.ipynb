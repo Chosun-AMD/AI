{
 "cells": [
  {
   "cell_type": "code",
   "execution_count": null,
   "id": "f5084ddf",
   "metadata": {},
   "outputs": [],
   "source": [
    "import glob\n",
    "import os\n",
    "import msgpack\n",
    "from tqdm.auto import tqdm\n",
    "\n",
    "from silence_tensorflow import silence_tensorflow\n",
    "silence_tensorflow()\n",
    "import tensorflow as tf\n",
    "import tensorflow.keras as keras\n",
    "import keras.models as models\n",
    "import keras.layers as layers\n",
    "from keras.preprocessing.text import Tokenizer\n",
    "import numpy as np\n",
    "import pandas as pd\n",
    "import parmap"
   ]
  },
  {
   "cell_type": "code",
   "execution_count": null,
   "id": "b603a60f",
   "metadata": {},
   "outputs": [],
   "source": [
    "train_dataset_path = input(\"Enter the path of the train dataset: \")\n",
    "files = glob.glob(os.path.join(train_dataset_path, '*.msgpack'))"
   ]
  },
  {
   "cell_type": "code",
   "execution_count": null,
   "id": "164b523b",
   "metadata": {},
   "outputs": [],
   "source": [
    "dataset = []\n",
    "for f in tqdm(files):\n",
    "    data = msgpack.load(open(f, 'rb'))\n",
    "    dataset.append((data[0], int(data[1])))"
   ]
  },
  {
   "cell_type": "code",
   "execution_count": null,
   "id": "8526f34c",
   "metadata": {},
   "outputs": [],
   "source": [
    "features = []\n",
    "labels = []\n",
    "\n",
    "for d in tqdm(dataset):\n",
    "    features.append(' '.join(d[0]))\n",
    "    labels.append(d[1])\n",
    "\n",
    "del dataset"
   ]
  },
  {
   "cell_type": "code",
   "execution_count": null,
   "id": "b9301e60",
   "metadata": {},
   "outputs": [],
   "source": [
    "tokenizer = Tokenizer()\n",
    "\n",
    "flag_load = False\n",
    "# if word_index.ascii.msgpack is exists then load word_index from file\n",
    "# else use tokenizer.fit_on_texts\n",
    "if os.path.isfile('word_index.opcode.msgpack'):\n",
    "    with open('word_index.opcode.msgpack', 'rb') as f:\n",
    "        tokenizer.word_index = msgpack.load(f)\n",
    "        flag_load = True\n",
    "else:\n",
    "    tokenizer.fit_on_texts(tqdm(features))"
   ]
  },
  {
   "cell_type": "code",
   "execution_count": null,
   "id": "01a489e8",
   "metadata": {},
   "outputs": [],
   "source": [
    "# Save word index to msgpack files\n",
    "if flag_load == False:\n",
    "    with open('word_index.opcode.msgpack', 'wb') as f:\n",
    "        msgpack.dump(tokenizer.word_index, f)"
   ]
  },
  {
   "cell_type": "code",
   "execution_count": null,
   "id": "061c0a76",
   "metadata": {},
   "outputs": [],
   "source": [
    "sequences = tokenizer.texts_to_sequences(tqdm(features))\n",
    "padded_sequences = keras.preprocessing.sequence.pad_sequences(tqdm(sequences), padding='post', maxlen=100)"
   ]
  },
  {
   "cell_type": "code",
   "execution_count": null,
   "id": "7f9bc663",
   "metadata": {},
   "outputs": [],
   "source": [
    "model = models.Sequential()\n",
    "model.add(layers.Embedding(len(tokenizer.word_index), output_dim=100, input_length=100))\n",
    "model.add(layers.Conv1D(filters=64, kernel_size=3, activation='relu'))\n",
    "model.add(layers.MaxPooling1D(pool_size=2))\n",
    "model.add(layers.LSTM(128))\n",
    "model.add(layers.Dense(1, activation='sigmoid'))"
   ]
  },
  {
   "cell_type": "code",
   "execution_count": null,
   "id": "14cab46e",
   "metadata": {},
   "outputs": [],
   "source": [
    "model.summary()"
   ]
  },
  {
   "cell_type": "code",
   "execution_count": null,
   "id": "e3a74aa6",
   "metadata": {},
   "outputs": [],
   "source": [
    "model.compile(optimizer='Nadam', loss='binary_crossentropy', metrics=['accuracy'])\n",
    "model.fit(padded_sequences, np.array(labels), epochs=20)"
   ]
  },
  {
   "cell_type": "code",
   "execution_count": null,
   "id": "f0b25231",
   "metadata": {},
   "outputs": [],
   "source": [
    "# 모델 평가\n",
    "test_dataset_path = input(\"Enter the path of the test dataset: \")\n",
    "test_files = glob.glob(os.path.join('test_dataset', '*.msgpack'))\n",
    "\n",
    "test_dataset = []\n",
    "for f in tqdm(test_files):\n",
    "    data = msgpack.load(open(f, 'rb'))\n",
    "    test_dataset.append((data[0], int(data[1])))"
   ]
  },
  {
   "cell_type": "code",
   "execution_count": null,
   "id": "f90ae57f",
   "metadata": {},
   "outputs": [],
   "source": [
    "test_features = []\n",
    "test_labels = []\n",
    "\n",
    "for d in tqdm(test_dataset):\n",
    "    test_features.append(' '.join(d[0]))\n",
    "    test_labels.append(d[1])\n",
    "\n",
    "del test_dataset\n",
    "\n",
    "test_sequences = tokenizer.texts_to_sequences(tqdm(test_features))\n",
    "test_padded_sequences = keras.preprocessing.sequence.pad_sequences(tqdm(test_sequences), padding='post', maxlen=100)"
   ]
  },
  {
   "cell_type": "code",
   "execution_count": null,
   "id": "f293ed75",
   "metadata": {},
   "outputs": [],
   "source": [
    "loss, accuracy = model.evaluate(x=test_padded_sequences, y=np.array(test_labels))\n",
    "\n",
    "print(f'Loss: {loss}')\n",
    "print(f'Accuracy: {accuracy}%')"
   ]
  },
  {
   "cell_type": "code",
   "execution_count": null,
   "id": "1e330ce2",
   "metadata": {},
   "outputs": [],
   "source": [
    "# Save Model\n",
    "model.save('models/opcode.h5')"
   ]
  },
  {
   "cell_type": "code",
   "execution_count": null,
   "id": "1087e7da",
   "metadata": {},
   "outputs": [],
   "source": []
  }
 ],
 "metadata": {
  "kernelspec": {
   "display_name": "Python 3 (ipykernel)",
   "language": "python",
   "name": "python3"
  },
  "language_info": {
   "codemirror_mode": {
    "name": "ipython",
    "version": 3
   },
   "file_extension": ".py",
   "mimetype": "text/x-python",
   "name": "python",
   "nbconvert_exporter": "python",
   "pygments_lexer": "ipython3",
   "version": "3.8.10"
  }
 },
 "nbformat": 4,
 "nbformat_minor": 5
}
