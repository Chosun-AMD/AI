{
 "cells": [
  {
   "cell_type": "code",
   "execution_count": 1,
   "id": "cc546267",
   "metadata": {},
   "outputs": [],
   "source": [
    "import glob\n",
    "import os\n",
    "import msgpack\n",
    "from tqdm.auto import tqdm\n",
    "\n",
    "from silence_tensorflow import silence_tensorflow\n",
    "silence_tensorflow()\n",
    "import tensorflow as tf\n",
    "import tensorflow.keras as keras\n",
    "import keras.models as models\n",
    "import keras.layers as layers\n",
    "from keras.preprocessing.text import Tokenizer\n",
    "import numpy as np\n",
    "import pandas as pd"
   ]
  },
  {
   "cell_type": "code",
   "execution_count": 2,
   "id": "8af41912",
   "metadata": {},
   "outputs": [],
   "source": [
    "from sklearn.model_selection import train_test_split\n",
    "from sklearn.preprocessing import MinMaxScaler"
   ]
  },
  {
   "cell_type": "code",
   "execution_count": 2,
   "id": "acfd3d97",
   "metadata": {},
   "outputs": [],
   "source": [
    "train_dataset_path = input('Enter the path to the train dataset: ')\n",
    "dataset = pd.read_csv(train_dataset_path)\n",
    "\n",
    "X = dataset.drop(['sha256sum', 'label'], axis=1)\n",
    "Y = dataset['label']"
   ]
  },
  {
   "cell_type": "code",
   "execution_count": 4,
   "id": "d4f424c9",
   "metadata": {},
   "outputs": [
    {
     "name": "stdout",
     "output_type": "stream",
     "text": [
      "5\n"
     ]
    }
   ],
   "source": [
    "X = np.array(X, dtype=np.float32)\n",
    "print(X.shape[1])"
   ]
  },
  {
   "cell_type": "code",
   "execution_count": 6,
   "id": "2ec8c715",
   "metadata": {},
   "outputs": [],
   "source": [
    "model = models.Sequential()\n",
    "model.add(layers.LSTM(64, activation='relu', input_shape=(X.shape[1], 1)))\n",
    "model.add(layers.Dense(64, activation='relu'))\n",
    "model.add(layers.Dense(1, activation='sigmoid'))"
   ]
  },
  {
   "cell_type": "code",
   "execution_count": 7,
   "id": "88e0712e",
   "metadata": {},
   "outputs": [],
   "source": [
    "model.compile(optimizer='Nadam', loss='binary_crossentropy', metrics=['accuracy'])"
   ]
  },
  {
   "cell_type": "code",
   "execution_count": 8,
   "id": "f5a164f9",
   "metadata": {},
   "outputs": [
    {
     "name": "stdout",
     "output_type": "stream",
     "text": [
      "Model: \"sequential_1\"\n",
      "_________________________________________________________________\n",
      " Layer (type)                Output Shape              Param #   \n",
      "=================================================================\n",
      " lstm_1 (LSTM)               (None, 64)                16896     \n",
      "                                                                 \n",
      " dense (Dense)               (None, 64)                4160      \n",
      "                                                                 \n",
      " dense_1 (Dense)             (None, 1)                 65        \n",
      "                                                                 \n",
      "=================================================================\n",
      "Total params: 21121 (82.50 KB)\n",
      "Trainable params: 21121 (82.50 KB)\n",
      "Non-trainable params: 0 (0.00 Byte)\n",
      "_________________________________________________________________\n"
     ]
    }
   ],
   "source": [
    "model.summary()"
   ]
  },
  {
   "cell_type": "code",
   "execution_count": 9,
   "id": "0a5ab68c",
   "metadata": {},
   "outputs": [
    {
     "name": "stdout",
     "output_type": "stream",
     "text": [
      "Epoch 1/10\n",
      "3125/3125 [==============================] - 108s 34ms/step - loss: 0.0377 - accuracy: 0.9872\n",
      "Epoch 2/10\n",
      "3125/3125 [==============================] - 105s 34ms/step - loss: 0.0207 - accuracy: 0.9948\n",
      "Epoch 3/10\n",
      "3125/3125 [==============================] - 113s 36ms/step - loss: 0.0203 - accuracy: 0.9949\n",
      "Epoch 4/10\n",
      "3125/3125 [==============================] - 109s 35ms/step - loss: 0.0197 - accuracy: 0.9951\n",
      "Epoch 5/10\n",
      "3125/3125 [==============================] - 108s 35ms/step - loss: 0.0192 - accuracy: 0.9950\n",
      "Epoch 6/10\n",
      "3125/3125 [==============================] - 106s 34ms/step - loss: 0.0189 - accuracy: 0.9951\n",
      "Epoch 7/10\n",
      "3125/3125 [==============================] - 104s 33ms/step - loss: 0.0185 - accuracy: 0.9952\n",
      "Epoch 8/10\n",
      "3125/3125 [==============================] - 104s 33ms/step - loss: 0.0178 - accuracy: 0.9951\n",
      "Epoch 9/10\n",
      "3125/3125 [==============================] - 104s 33ms/step - loss: 0.0172 - accuracy: 0.9952\n",
      "Epoch 10/10\n",
      "3125/3125 [==============================] - 104s 33ms/step - loss: 0.0170 - accuracy: 0.9952\n"
     ]
    },
    {
     "data": {
      "text/plain": [
       "<keras.src.callbacks.History at 0x29bdc1220>"
      ]
     },
     "execution_count": 9,
     "metadata": {},
     "output_type": "execute_result"
    }
   ],
   "source": [
    "model.fit(X, Y, epochs=10)"
   ]
  },
  {
   "cell_type": "code",
   "execution_count": 10,
   "id": "efc56341",
   "metadata": {},
   "outputs": [],
   "source": [
    "test_dataset_path = input('Enter the path to the test dataset: ')\n",
    "test_dataset = pd.read_csv(test_dataset_path)\n",
    "\n",
    "testX = test_dataset.drop(['sha256sum', 'label'], axis=1)\n",
    "testY = test_dataset['label']\n",
    "testX = np.array(testX, dtype=np.float32)"
   ]
  },
  {
   "cell_type": "code",
   "execution_count": 11,
   "id": "0268bee9",
   "metadata": {},
   "outputs": [
    {
     "name": "stdout",
     "output_type": "stream",
     "text": [
      "1563/1563 [==============================] - 16s 10ms/step - loss: 0.1004 - accuracy: 0.9777\n"
     ]
    },
    {
     "data": {
      "text/plain": [
       "[0.10042272508144379, 0.9776600003242493]"
      ]
     },
     "execution_count": 11,
     "metadata": {},
     "output_type": "execute_result"
    }
   ],
   "source": [
    "model.evaluate(testX, testY)"
   ]
  },
  {
   "cell_type": "code",
   "execution_count": 13,
   "id": "79521b1b",
   "metadata": {},
   "outputs": [],
   "source": [
    "model.save('models/predict.keras')"
   ]
  },
  {
   "cell_type": "code",
   "execution_count": null,
   "id": "a788afe0",
   "metadata": {},
   "outputs": [],
   "source": []
  }
 ],
 "metadata": {
  "kernelspec": {
   "display_name": "Python 3 (ipykernel)",
   "language": "python",
   "name": "python3"
  },
  "language_info": {
   "codemirror_mode": {
    "name": "ipython",
    "version": 3
   },
   "file_extension": ".py",
   "mimetype": "text/x-python",
   "name": "python",
   "nbconvert_exporter": "python",
   "pygments_lexer": "ipython3",
   "version": "3.8.16"
  }
 },
 "nbformat": 4,
 "nbformat_minor": 5
}
