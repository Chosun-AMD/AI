{
 "cells": [
  {
   "cell_type": "code",
   "execution_count": null,
   "id": "bb9c2764",
   "metadata": {},
   "outputs": [],
   "source": [
    "import glob\n",
    "import os\n",
    "import msgpack\n",
    "from tqdm.auto import tqdm\n",
    "\n",
    "from silence_tensorflow import silence_tensorflow\n",
    "silence_tensorflow()a\n",
    "import tensorflow as tf\n",
    "import tensorflow.keras as keras\n",
    "import keras.models as models\n",
    "import keras.layers as layers\n",
    "from keras.preprocessing.text import Tokenizer\n",
    "import numpy as np\n",
    "import pandas as pd"
   ]
  },
  {
   "cell_type": "code",
   "execution_count": null,
   "id": "aa5992c3",
   "metadata": {},
   "outputs": [],
   "source": [
    "train_dataset_path = input('Enter the path of the train dataset: ')\n",
    "label_path = input('Enter the path of the label file: ')\n",
    "csv = pd.read_csv(label_path, header=None)\n",
    "\n",
    "features = []\n",
    "labels = []\n",
    "\n",
    "for l in tqdm(list(csv.iterrows())):\n",
    "    filename = os.path.join(train_dataset_path, l[1][0] + '.bin')\n",
    "    features.append(np.fromfile('train_set/rich_header/' + l[1][0] + '.bin', dtype=np.uint8))\n",
    "    labels.append(l[1][1])\n",
    "\n",
    "padded  = tf.keras.preprocessing.sequence.pad_sequences(features, padding='post')"
   ]
  },
  {
   "cell_type": "code",
   "execution_count": null,
   "id": "104c1af2",
   "metadata": {},
   "outputs": [],
   "source": [
    "expanded_data = np.expand_dims(padded, axis=2)"
   ]
  },
  {
   "cell_type": "code",
   "execution_count": null,
   "id": "2edbb8ef",
   "metadata": {},
   "outputs": [],
   "source": [
    "model = keras.models.Sequential()\n",
    "model.add(keras.layers.Conv1D(128, 3, activation='relu', input_shape=expanded_data.shape[1:]))\n",
    "model.add(keras.layers.MaxPooling1D(2))\n",
    "model.add(keras.layers.Flatten())\n",
    "model.add(keras.layers.Dense(1024, activation='relu'))\n",
    "model.add(keras.layers.Dense(1, activation='sigmoid'))"
   ]
  },
  {
   "cell_type": "code",
   "execution_count": null,
   "id": "da14a67c",
   "metadata": {},
   "outputs": [],
   "source": [
    "model.summary()\n",
    "print(expanded_data.shape)\n",
    "print(np.array(labels).shape)"
   ]
  },
  {
   "cell_type": "code",
   "execution_count": null,
   "id": "fed26436",
   "metadata": {},
   "outputs": [],
   "source": [
    "model.compile(optimizer='Nadam', loss='binary_crossentropy', metrics=['accuracy'])"
   ]
  },
  {
   "cell_type": "code",
   "execution_count": null,
   "id": "998aabe3",
   "metadata": {},
   "outputs": [],
   "source": [
    "history = model.fit(expanded_data, np.array(labels) , epochs=100, batch_size=10000)"
   ]
  },
  {
   "cell_type": "code",
   "execution_count": null,
   "id": "fba3d7a0",
   "metadata": {},
   "outputs": [],
   "source": [
    "# 모델 평가\n",
    "test_dataset_path = input('Enter the path of the test dataset: ')\n",
    "test_label_path = input('Enter the path of the label file: ')\n",
    "csv = pd.read_csv(test_label_path, header=None)\n",
    "\n",
    "test_features = []\n",
    "test_labels = []\n",
    "\n",
    "for l in tqdm(list(csv.iterrows())):\n",
    "    filename = os.path.join(test_dataset_path, l[1][0] + '.bin')\n",
    "    test_features.append(np.fromfile(filename, dtype=np.uint8))\n",
    "    test_labels.append(l[1][1])\n",
    "\n",
    "test_padded  = tf.keras.preprocessing.sequence.pad_sequences(test_features, padding='post', maxlen=512)"
   ]
  },
  {
   "cell_type": "code",
   "execution_count": null,
   "id": "74a6cde8",
   "metadata": {},
   "outputs": [],
   "source": [
    "loss, accuracy = model.evaluate(x=test_padded, y=np.array(test_labels))\n",
    "\n",
    "print(f'Loss: {loss}')\n",
    "print(f'Accuracy: {accuracy}%')"
   ]
  },
  {
   "cell_type": "code",
   "execution_count": null,
   "id": "41c4d2a1",
   "metadata": {},
   "outputs": [],
   "source": [
    "# Save Model\n",
    "model.save('models/rich_header.h5')"
   ]
  }
 ],
 "metadata": {
  "kernelspec": {
   "display_name": "Python 3 (ipykernel)",
   "language": "python",
   "name": "python3"
  },
  "language_info": {
   "codemirror_mode": {
    "name": "ipython",
    "version": 3
   },
   "file_extension": ".py",
   "mimetype": "text/x-python",
   "name": "python",
   "nbconvert_exporter": "python",
   "pygments_lexer": "ipython3",
   "version": "3.8.10"
  }
 },
 "nbformat": 4,
 "nbformat_minor": 5
}
