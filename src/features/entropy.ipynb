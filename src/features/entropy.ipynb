{
 "cells": [
  {
   "attachments": {},
   "cell_type": "markdown",
   "metadata": {},
   "source": [
    "추출한 엔트로피를 학습이 가능하게 CSV 파일로 변환하는 Notebook\n",
    "\n",
    "입력파일\n",
    "* NTInfo DiE로 추출한 엔트로피 (json)\n",
    "* 악성여부가 표기된 CSV 파일\n",
    "\n",
    "출력파일\n",
    "* 패킹 여부와 엔트로피, 악성여부가 표기된 CSV 파일"
   ]
  },
  {
   "cell_type": "code",
   "execution_count": 10,
   "metadata": {},
   "outputs": [],
   "source": [
    "import json\n",
    "import csv\n",
    "import glob\n",
    "from tqdm.auto import tqdm\n",
    "import parmap\n",
    "import os\n",
    "import re"
   ]
  },
  {
   "cell_type": "code",
   "execution_count": 11,
   "metadata": {},
   "outputs": [],
   "source": [
    "# 추출한 엔트로피 파일 경로\n",
    "entropy_path = input()\n",
    "\n",
    "if entropy_path == '' or os.path.isdir(entropy_path) == False:\n",
    "    print('Please input path of entropy files')\n",
    "    raise FileNotFoundError(f'{entropy_path} is not found')\n",
    "\n",
    "# 추출할 파일 경로 내의 PE 파일 목록\n",
    "files = glob.glob(entropy_path + '/*.json')"
   ]
  },
  {
   "cell_type": "code",
   "execution_count": 14,
   "metadata": {},
   "outputs": [],
   "source": [
    "csv_path = input()\n",
    "\n",
    "if csv_path == '' or os.path.isfile(csv_path) == False:\n",
    "    print('Please input path of CSV file for labeling')\n",
    "    raise FileNotFoundError(f'{csv_path} is not exist')\n",
    "\n",
    "# CSV 파일을 읽은 후 dict 형태로 저장 key는 sha256, value는 라벨\n",
    "global label_dict\n",
    "with open(csv_path, 'r') as f:\n",
    "    reader = csv.reader(f)\n",
    "    label_dict = {rows[0]: rows[1] for rows in reader}"
   ]
  },
  {
   "cell_type": "code",
   "execution_count": 15,
   "metadata": {},
   "outputs": [],
   "source": [
    "def get_row(file):\n",
    "    global label_dict\n",
    "    basename_without_ext = os.path.basename(file).split('.')[0]\n",
    "    with open(file, 'r') as f:\n",
    "        data = json.load(f)\n",
    "    is_malware = label_dict[basename_without_ext]\n",
    "\n",
    "    return (1 if data['status'] == 'packed' else 0, data['total'], int(is_malware))"
   ]
  },
  {
   "cell_type": "code",
   "execution_count": 16,
   "metadata": {},
   "outputs": [
    {
     "data": {
      "application/vnd.jupyter.widget-view+json": {
       "model_id": "1ae41ca3414c4edc9eab5fb7ac2be729",
       "version_major": 2,
       "version_minor": 0
      },
      "text/plain": [
       "  0%|          | 0/50000 [00:00<?, ?it/s]"
      ]
     },
     "metadata": {},
     "output_type": "display_data"
    }
   ],
   "source": [
    "column_name = ['packed', 'entropy', 'malware']\n",
    "\n",
    "result = parmap.map(get_row, files, pm_pbar=True, pm_chunksize=1)"
   ]
  },
  {
   "cell_type": "code",
   "execution_count": 17,
   "metadata": {},
   "outputs": [],
   "source": [
    "column = []\n",
    "column.append(column_name)\n",
    "for r in result:\n",
    "    column.append(list(r))"
   ]
  },
  {
   "cell_type": "code",
   "execution_count": 18,
   "metadata": {},
   "outputs": [],
   "source": [
    "# save csv\n",
    "with open('entropy.csv', 'w', newline='') as f:\n",
    "    writer = csv.writer(f)\n",
    "    writer.writerows(column)"
   ]
  },
  {
   "cell_type": "code",
   "execution_count": null,
   "metadata": {},
   "outputs": [],
   "source": []
  }
 ],
 "metadata": {
  "kernelspec": {
   "display_name": "Python 3",
   "language": "python",
   "name": "python3"
  },
  "language_info": {
   "codemirror_mode": {
    "name": "ipython",
    "version": 3
   },
   "file_extension": ".py",
   "mimetype": "text/x-python",
   "name": "python",
   "nbconvert_exporter": "python",
   "pygments_lexer": "ipython3",
   "version": "3.10.6"
  },
  "orig_nbformat": 4
 },
 "nbformat": 4,
 "nbformat_minor": 2
}
